{
  "nbformat": 4,
  "nbformat_minor": 0,
  "metadata": {
    "colab": {
      "provenance": [],
      "authorship_tag": "ABX9TyMRrc9m7REgMGdsE1+Scu+Y",
      "include_colab_link": true
    },
    "kernelspec": {
      "name": "python3",
      "display_name": "Python 3"
    },
    "language_info": {
      "name": "python"
    }
  },
  "cells": [
    {
      "cell_type": "markdown",
      "metadata": {
        "id": "view-in-github",
        "colab_type": "text"
      },
      "source": [
        "<a href=\"https://colab.research.google.com/github/Abhishek92kumar/AI/blob/main/Pytesseract.ipynb\" target=\"_parent\"><img src=\"https://colab.research.google.com/assets/colab-badge.svg\" alt=\"Open In Colab\"/></a>"
      ]
    },
    {
      "cell_type": "code",
      "execution_count": null,
      "metadata": {
        "id": "oLwyKLWnA-2V"
      },
      "outputs": [],
      "source": [
        "import os\n",
        "import cv2\n",
        "import pytesseract\n",
        "import pandas as pd\n",
        "\n",
        "# Set the path to the folder containing images\n",
        "folder_path = \"G:\\LAPTOP\\CLass 11 Aakash\"\n",
        "\n",
        "# Set the path to the Tesseract executable (change this based on your installation)\n",
        "pytesseract.pytesseract.tesseract_cmd = r\"C:\\Program Files\\Tesseract-OCR\\tesseract.exe\"\n",
        "\n",
        "# Function to perform OCR on an image\n",
        "def perform_ocr(image_path):\n",
        "    image = cv2.imread(image_path)\n",
        "    text = pytesseract.image_to_string(image)\n",
        "    return text\n",
        "\n",
        "# Get a list of image files in the folder\n",
        "image_files = [f for f in os.listdir(folder_path) if f.lower().endswith(('.png', '.jpg', '.jpeg'))]\n",
        "\n",
        "# Create empty lists to store image paths and OCR results\n",
        "image_paths = []\n",
        "ocr_results = []\n",
        "\n",
        "# Loop through each image file\n",
        "for image_file in image_files:\n",
        "    # Get the full path of the image\n",
        "    image_path = os.path.join(folder_path, image_file)\n",
        "\n",
        "    # Perform OCR on the image\n",
        "    ocr_result = perform_ocr(image_path)\n",
        "\n",
        "    # Append image path and OCR result to the lists\n",
        "    image_paths.append(image_path)\n",
        "    ocr_results.append(ocr_result)\n",
        "\n",
        "# Create a DataFrame with image paths and OCR results\n",
        "data = {'Image Path': image_paths, 'OCR Result': ocr_results}\n",
        "df = pd.DataFrame(data)\n",
        "\n",
        "# Display the DataFrame\n",
        "print(df)\n",
        "\n",
        "# Save the DataFrame to a CSV file if needed\n",
        "df.to_csv('\"G:\\LAPTOP\\CLass 11 Aakash\\ocr_results.csv\", index=False)\n"
      ]
    }
  ]
}