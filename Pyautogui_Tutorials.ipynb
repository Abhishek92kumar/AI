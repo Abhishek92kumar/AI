{
 "cells": [
  {
   "cell_type": "code",
   "execution_count": 1,
   "id": "1321c868",
   "metadata": {},
   "outputs": [],
   "source": [
    "import pyautogui"
   ]
  },
  {
   "cell_type": "code",
   "execution_count": 3,
   "id": "a8963455",
   "metadata": {},
   "outputs": [
    {
     "name": "stdout",
     "output_type": "stream",
     "text": [
      "Size(width=1366, height=768)\n"
     ]
    }
   ],
   "source": [
    "print(pyautogui.size())"
   ]
  },
  {
   "cell_type": "code",
   "execution_count": 5,
   "id": "9c295dd3",
   "metadata": {},
   "outputs": [
    {
     "data": {
      "text/plain": [
       "Point(x=976, y=593)"
      ]
     },
     "execution_count": 5,
     "metadata": {},
     "output_type": "execute_result"
    }
   ],
   "source": [
    "pyautogui.position()"
   ]
  },
  {
   "cell_type": "code",
   "execution_count": 8,
   "id": "870a10cb",
   "metadata": {},
   "outputs": [],
   "source": [
    "pyautogui.move(3,41,3) #move in 3 seconds absolute"
   ]
  },
  {
   "cell_type": "code",
   "execution_count": 9,
   "id": "c03b3967",
   "metadata": {},
   "outputs": [],
   "source": [
    "pyautogui.moveRel(3,42,1)"
   ]
  },
  {
   "cell_type": "code",
   "execution_count": 11,
   "id": "827565f8",
   "metadata": {},
   "outputs": [],
   "source": [
    "pyautogui.click(100,100)"
   ]
  },
  {
   "cell_type": "code",
   "execution_count": 13,
   "id": "f8bca910",
   "metadata": {},
   "outputs": [],
   "source": [
    "pyautogui.click(100,100,3,button=\"left\")# click 3 times"
   ]
  },
  {
   "cell_type": "code",
   "execution_count": 14,
   "id": "3b74a374",
   "metadata": {},
   "outputs": [],
   "source": [
    "pyautogui.rightClick()"
   ]
  },
  {
   "cell_type": "code",
   "execution_count": 15,
   "id": "380dfe61",
   "metadata": {},
   "outputs": [],
   "source": [
    "pyautogui.leftClick()"
   ]
  },
  {
   "cell_type": "code",
   "execution_count": 16,
   "id": "c0b4e6db",
   "metadata": {},
   "outputs": [],
   "source": [
    "pyautogui.tripleClick()"
   ]
  },
  {
   "cell_type": "code",
   "execution_count": 19,
   "id": "89949c5f",
   "metadata": {},
   "outputs": [],
   "source": [
    "pyautogui.scroll(500) # scroll 500 down"
   ]
  },
  {
   "cell_type": "code",
   "execution_count": 22,
   "id": "a38adcc0",
   "metadata": {},
   "outputs": [],
   "source": [
    "pyautogui.scroll(-100) # scroll 500 down"
   ]
  },
  {
   "cell_type": "code",
   "execution_count": 23,
   "id": "ca4e7504",
   "metadata": {},
   "outputs": [],
   "source": [
    "pyautogui.mouseUp(100,100,button='left')"
   ]
  },
  {
   "cell_type": "code",
   "execution_count": 9,
   "id": "b45d8d96",
   "metadata": {},
   "outputs": [],
   "source": [
    "import pyautogui\n",
    "import time\n",
    "time.sleep(3)\n",
    "distance =500\n",
    "while distance >0:\n",
    "    pyautogui.dragRel(distance,0,1,button='left')\n",
    "    distance =distance-20\n",
    "    pyautogui.dragRel(0,distance,1,button='left')\n",
    "    pyautogui.dragRel(-distance,0,1,button='left')\n",
    "    distance =distance-20\n",
    "\n",
    "    pyautogui.dragRel(0,-distance,1,button='left')\n",
    "    time.sleep(2)"
   ]
  },
  {
   "cell_type": "code",
   "execution_count": null,
   "id": "58818792",
   "metadata": {},
   "outputs": [],
   "source": []
  }
 ],
 "metadata": {
  "kernelspec": {
   "display_name": "Python 3 (ipykernel)",
   "language": "python",
   "name": "python3"
  },
  "language_info": {
   "codemirror_mode": {
    "name": "ipython",
    "version": 3
   },
   "file_extension": ".py",
   "mimetype": "text/x-python",
   "name": "python",
   "nbconvert_exporter": "python",
   "pygments_lexer": "ipython3",
   "version": "3.11.5"
  }
 },
 "nbformat": 4,
 "nbformat_minor": 5
}
